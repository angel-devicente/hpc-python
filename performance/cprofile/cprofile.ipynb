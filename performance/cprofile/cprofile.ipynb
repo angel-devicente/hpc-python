{
 "cells": [
  {
   "cell_type": "code",
   "execution_count": 1,
   "metadata": {},
   "outputs": [],
   "source": [
    "import heat_main"
   ]
  },
  {
   "cell_type": "code",
   "execution_count": 2,
   "metadata": {},
   "outputs": [
    {
     "name": "stdout",
     "output_type": "stream",
     "text": [
      "Heat equation solver\n",
      "Diffusion constant: 0.5\n",
      "Input file: bottle.dat\n",
      "Parameters\n",
      "----------\n",
      "  nx=200 ny=200 dx=0.1 dy=0.1\n",
      "  time steps=200  image interval=4000\n",
      "Simulation finished in 25.073365449905396 s\n",
      " \n",
      "*** Profile printout saved to text file 'prun0'. \n"
     ]
    }
   ],
   "source": [
    "%prun -s time -q -l 10 -T prun0 heat_main.main()"
   ]
  },
  {
   "cell_type": "markdown",
   "metadata": {},
   "source": [
    "<tr>\n",
    "    <td> <img src=\"heat_000.png\" alt=\"Start\" style=\"width: 250px;\"/> </td>\n",
    "    <td> <img src=\"heat_200.png\" alt=\"End\" style=\"width: 250px;\"/> </td>\n",
    "</tr>"
   ]
  },
  {
   "cell_type": "code",
   "execution_count": 3,
   "metadata": {},
   "outputs": [
    {
     "name": "stdout",
     "output_type": "stream",
     "text": [
      "         185481 function calls (181305 primitive calls) in 25.322 seconds\n",
      "\n",
      "   Ordered by: internal time\n",
      "   List reduced from 1056 to 10 due to restriction <10>\n",
      "\n",
      "   ncalls  tottime  percall  cumtime  percall filename:lineno(function)\n",
      "      200   25.073    0.125   25.073    0.125 heat.py:9(evolve)\n",
      "        2    0.040    0.020    0.040    0.020 {built-in method matplotlib._png.write_png}\n",
      "        8    0.038    0.005    0.038    0.005 {built-in method matplotlib._image.resample}\n",
      "    40000    0.016    0.000    0.019    0.000 npyio.py:790(floatconv)\n",
      "     2755    0.014    0.000    0.014    0.000 {built-in method numpy.array}\n",
      "      200    0.007    0.000    0.026    0.000 npyio.py:1087(<listcomp>)\n",
      "1433/1275    0.005    0.000    0.014    0.000 {built-in method numpy.core._multiarray_umath.implement_array_function}\n",
      "        4    0.005    0.001    0.015    0.004 colors.py:532(__call__)\n",
      "        4    0.004    0.001    0.004    0.001 {method 'take' of 'numpy.ndarray' objects}\n",
      "        4    0.003    0.001    0.067    0.017 image.py:316(_make_image)\n"
     ]
    }
   ],
   "source": [
    "print(open('prun0', 'r').read())"
   ]
  },
  {
   "cell_type": "code",
   "execution_count": 4,
   "metadata": {},
   "outputs": [
    {
     "data": {
      "text/plain": [
       "0.9901666535028829"
      ]
     },
     "execution_count": 4,
     "metadata": {},
     "output_type": "execute_result"
    }
   ],
   "source": [
    "25.073 / 25.322"
   ]
  },
  {
   "cell_type": "code",
   "execution_count": null,
   "metadata": {},
   "outputs": [],
   "source": []
  }
 ],
 "metadata": {
  "@webio": {
   "lastCommId": null,
   "lastKernelId": null
  },
  "kernelspec": {
   "display_name": "Python 3",
   "language": "python",
   "name": "python3"
  },
  "language_info": {
   "codemirror_mode": {
    "name": "ipython",
    "version": 3
   },
   "file_extension": ".py",
   "mimetype": "text/x-python",
   "name": "python",
   "nbconvert_exporter": "python",
   "pygments_lexer": "ipython3",
   "version": "3.6.10"
  }
 },
 "nbformat": 4,
 "nbformat_minor": 4
}
